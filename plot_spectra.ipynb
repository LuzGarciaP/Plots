{
 "cells": [
  {
   "cell_type": "code",
   "execution_count": null,
   "metadata": {},
   "outputs": [],
   "source": [
    "import numpy as np\n",
    "import matplotlib.pyplot as plt\n",
    "import fitsio\n",
    "\n",
    "plt.rc(\"font\", **{\"family\": \"serif\", \"serif\": [\"Computer Modern\"]})\n",
    "plt.rc(\"text\", usetex=True)\n",
    "\n",
    "g_xlabel = \"$\\lambda (\\AA)$\"\n",
    "g_ylabel = \"$F (units)$\"\n",
    "\n",
    "g_fontsize_xlabel = 30\n",
    "g_fontsize_ylabel = 28\n",
    "\n",
    "g_file_dpi = 200\n",
    "g_plot_dpi = 75\n",
    "\n",
    "fin = fitsio.FITS('/Users/lgarcia/desi/output_files/spectra_with_BAL.fits')\n",
    "\n",
    "wave = fin[2].read()\n",
    "flux = fin[3].read()\n",
    "\n",
    "plt.xlabel(g_xlabel, fontsize=g_fontsize_xlabel)\n",
    "plt.ylabel(g_ylabel, fontsize=g_fontsize_ylabel)\n",
    "\n",
    "plt.plot(wave,flux[28,:],color='blue',lw=1,zorder=10)\n",
    "#plt.plot(wave,flux[29,:],color='orange',lw=1,zorder=5)\n",
    "\n",
    "plt.savefig(\"/Users/lgarcia/Desktop/file_numeber.png\", bbox_inches=\"tight\", dpi=g_file_dpi)\n",
    "\n",
    "plt.show()"
   ]
  }
 ],
 "metadata": {
  "kernelspec": {
   "display_name": "Python 3",
   "language": "python",
   "name": "python3"
  },
  "language_info": {
   "codemirror_mode": {
    "name": "ipython",
    "version": 3
   },
   "file_extension": ".py",
   "mimetype": "text/x-python",
   "name": "python",
   "nbconvert_exporter": "python",
   "pygments_lexer": "ipython3",
   "version": "3.6.4"
  }
 },
 "nbformat": 4,
 "nbformat_minor": 2
}
